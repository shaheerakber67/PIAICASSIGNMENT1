{
 "cells": [
  {
   "cell_type": "code",
   "execution_count": 1,
   "metadata": {},
   "outputs": [
    {
     "name": "stdout",
     "output_type": "stream",
     "text": [
      "Enter the radius: 0.5\n",
      "0.7853981633974483\n"
     ]
    }
   ],
   "source": [
    "# Write a Python program which accepts the radius of a circle from the user and compute the area.\n",
    "import math\n",
    "radius=float(input(\"Enter the radius: \"))\n",
    "area=math.pi*pow(radius, 2)\n",
    "print(area)"
   ]
  },
  {
   "cell_type": "code",
   "execution_count": 3,
   "metadata": {},
   "outputs": [
    {
     "name": "stdout",
     "output_type": "stream",
     "text": [
      "Enter the number: 0\n",
      "Number is zero\n"
     ]
    }
   ],
   "source": [
    "# Write a Python program to check if a number is positive, negative or zero\n",
    "num=float(input(\"Enter the number: \"))\n",
    "if num<0:\n",
    "    print(\"Number is negative\")\n",
    "elif num>0:\n",
    "    print(\"Number is positive\")\n",
    "else:\n",
    "    print(\"Number is zero\")   "
   ]
  },
  {
   "cell_type": "code",
   "execution_count": 6,
   "metadata": {},
   "outputs": [
    {
     "name": "stdout",
     "output_type": "stream",
     "text": [
      "Enter the Numerator: 4\n",
      "Enter the Denumerator: 2\n",
      "Number 4.0 is Completely divisible by 2.0\n"
     ]
    }
   ],
   "source": [
    "# Write a Python program to check whether a number is completely divisible by another number. Accept two integer values form the user\n",
    "num = float(input('Enter the Numerator: '))\n",
    "den = float(input('Enter the Denumerator: '))\n",
    "if num % den == 0:\n",
    "    print(\"Number {} is Completely divisible by {}\".format(num, den))\n",
    "else :\n",
    "          print(\"Number {} is not Completely divisible by {}\".format(num, den))"
   ]
  },
  {
   "cell_type": "code",
   "execution_count": 2,
   "metadata": {},
   "outputs": [
    {
     "name": "stdout",
     "output_type": "stream",
     "text": [
      "Enter the start date in (dd/mmm/yyyy) format : 27/01/1999\n",
      "Enter the end date in (dd/mmm/yyyy) format : 20/06/2019\n",
      "There are 7449 days in between 27/01/1999 and 20/06/2019\n"
     ]
    }
   ],
   "source": [
    "# Write a Python program to calculate number of days between two dates\n",
    "from datetime import datetime\n",
    "start = input('Enter the start date in (dd/mmm/yyyy) format : ')\n",
    "end = input('Enter the end date in (dd/mmm/yyyy) format : ')\n",
    "d_format = \"%d/%m/%Y\"\n",
    "a = datetime.strptime(start, d_format)\n",
    "b = datetime.strptime(end, d_format)\n",
    "print(\"There are {} days in between {} and {}\".format((b-a).days,start,end))\n"
   ]
  },
  {
   "cell_type": "code",
   "execution_count": 1,
   "metadata": {},
   "outputs": [
    {
     "name": "stdout",
     "output_type": "stream",
     "text": [
      "Enter radius of Sphere: 1\n",
      "Area of Sphere is =  4.1887902047863905\n"
     ]
    }
   ],
   "source": [
    "# Write a Python program to get the volume of a sphere, please take the radius as input from user\n",
    "import math\n",
    "radius = float(input('Enter radius of Sphere: '))\n",
    "sphere = (4/3) * math.pi * pow(radius,3)\n",
    "print('Area of Sphere is = ', sphere)"
   ]
  },
  {
   "cell_type": "code",
   "execution_count": 2,
   "metadata": {},
   "outputs": [
    {
     "name": "stdout",
     "output_type": "stream",
     "text": [
      "Enter String: HI\n",
      "How many copies do you want: 2\n",
      "HI\n",
      "HI\n"
     ]
    }
   ],
   "source": [
    "# Write a Python program to get a string which is n (non-negative integer) copies of a given string.\n",
    "str = input('Enter String: ')\n",
    "n = int(input('How many copies do you want: '))\n",
    "for i in range(n):\n",
    "    print(str)"
   ]
  },
  {
   "cell_type": "code",
   "execution_count": 8,
   "metadata": {},
   "outputs": [
    {
     "name": "stdout",
     "output_type": "stream",
     "text": [
      "Enter the Number: 9\n",
      "9 is Odd\n"
     ]
    }
   ],
   "source": [
    "# Write a Python program to find whether a given number (accept from the user) is even or odd, print out an appropriate message to the user\n",
    "num = int(input('Enter the Number: '))\n",
    "if(num%2 == 0):\n",
    "    print(\"{} is Even\".format(num))\n",
    "else:\n",
    "    print(\"{} is Odd\".format(num))"
   ]
  },
  {
   "cell_type": "code",
   "execution_count": 17,
   "metadata": {},
   "outputs": [
    {
     "name": "stdout",
     "output_type": "stream",
     "text": [
      "Enter a Character: A\n",
      "Letter A is a Vowel\n"
     ]
    }
   ],
   "source": [
    "# Write a Python program to test whether a passed letter is a vowel or not\n",
    "char = input('Enter a Character: ')\n",
    "if(char=='A' or char=='a' or char=='E' or char =='e' or char=='I' or char=='i' or char=='O' or char=='o' or char=='U' or char=='u'):\n",
    "    print('Letter {} is a Vowel'.format(char))\n",
    "else:\n",
    "    print('Letter {} is not a Vowel'.format(char))"
   ]
  },
  {
   "cell_type": "code",
   "execution_count": 3,
   "metadata": {},
   "outputs": [
    {
     "name": "stdout",
     "output_type": "stream",
     "text": [
      "Enter magnitude of Triangle Base: 4\n",
      "Enter Magnitude of Triangle Height: 4\n",
      "Area of Triangle with Height 4.0 and Base 4.0 is 8.0\n"
     ]
    }
   ],
   "source": [
    "# Write a Python program that will accept the base and height of a triangle and compute the area\n",
    "base = float(input('Enter magnitude of Triangle Base: '))\n",
    "height = float(input('Enter Magnitude of Triangle Height: '))\n",
    "area = (1/2) * base * height\n",
    "print('Area of Triangle with Height {} and Base {} is {}'.format(height,base,area))"
   ]
  },
  {
   "cell_type": "code",
   "execution_count": 14,
   "metadata": {},
   "outputs": [
    {
     "name": "stdout",
     "output_type": "stream",
     "text": [
      "Please enter principal amount: 10000\n",
      "Please Enter Rate of interest in %: .1\n",
      "Enter number of years for investment: 5\n",
      "After 5.0 years your principal amount 10000.0 over an interest rate of 0.1% will be 16105.1\n"
     ]
    }
   ],
   "source": [
    "# Write a Python program to compute the future value of a specified principal amount, rate of interest, and a number of years\n",
    "principal = float(input(\"Please enter principal amount: \"))\n",
    "rate = float(input('Please Enter Rate of interest in %: '))\n",
    "time = float(input('Enter number of years for investment: '))\n",
    "interest = principal * ((1+(rate)) ** time)\n",
    "print('After {} years your principal amount {} over an interest rate of {}% will be {}'.format(time,principal,rate,round(interest, 2)))"
   ]
  },
  {
   "cell_type": "code",
   "execution_count": 17,
   "metadata": {},
   "outputs": [
    {
     "name": "stdout",
     "output_type": "stream",
     "text": [
      "Enter Co-ordinate for x1: 2\n",
      "Enter Co-ordinate for x2: 4\n",
      "Enter Co-ordinate for y1: 4\n",
      "Enter Co-ordinate for y2: 4\n",
      "Distance between points (2,4) and (4,4) is 2.0\n"
     ]
    }
   ],
   "source": [
    "# Write a Python program to compute the distance between the points (x1, y1) and (x2, y2).\n",
    "import math\n",
    "x1 = int(input('Enter Co-ordinate for x1: '))\n",
    "x2 = int(input('Enter Co-ordinate for x2: '))\n",
    "y1 = int(input('Enter Co-ordinate for y1: '))\n",
    "y2 = int(input('Enter Co-ordinate for y2: '))\n",
    "distance= math.sqrt(pow(y1-x1, 2) + pow(y2-x2, 2))\n",
    "print('Distance between points ({},{}) and ({},{}) is {}'.format(x1,y1,x2,y2,distance))"
   ]
  },
  {
   "cell_type": "code",
   "execution_count": 19,
   "metadata": {},
   "outputs": [
    {
     "name": "stdout",
     "output_type": "stream",
     "text": [
      "Enter Height in Feet: 5\n",
      "There are 152.4 Cm in 5.0 ft\n"
     ]
    }
   ],
   "source": [
    "# Write a Python program to convert height in feet to centimetres.\n",
    "height_ft = float(input('Enter Height in Feet: '))\n",
    "cm = height_ft * 30.48\n",
    "print('There are {} Cm in {} ft'.format(cm, height_ft))"
   ]
  },
  {
   "cell_type": "code",
   "execution_count": 4,
   "metadata": {},
   "outputs": [
    {
     "name": "stdout",
     "output_type": "stream",
     "text": [
      "Enter Height in Cm: 180\n",
      "Enter Weight in Kg: 75\n",
      "Your BMI is 23.15\n"
     ]
    }
   ],
   "source": [
    "# Write a Python program to calculate body mass index\n",
    "height_cm = float(input('Enter Height in Cm: '))\n",
    "weight = float(input('Enter Weight in Kg: '))\n",
    "height_m=height_cm/100\n",
    "BMI = weight / pow(height_m,2)\n",
    "print('Your BMI is {}'.format(round(BMI,2)))"
   ]
  },
  {
   "cell_type": "code",
   "execution_count": 7,
   "metadata": {},
   "outputs": [
    {
     "name": "stdout",
     "output_type": "stream",
     "text": [
      "Enter the value of n: 5\n",
      "Sum of n Positive integers till 5 is 15.0\n"
     ]
    }
   ],
   "source": [
    "# Write a python program to sum of the first n positive integers\n",
    "n = int(input('Enter the value of n: '))\n",
    "sum = (n*(n+1))/2\n",
    "print('Sum of n Positive integers till {} is {}'.format(n,sum))"
   ]
  },
  {
   "cell_type": "code",
   "execution_count": 19,
   "metadata": {},
   "outputs": [
    {
     "name": "stdout",
     "output_type": "stream",
     "text": [
      "Enter a number: 1234\n",
      "Sum of ['1', '2', '3', '4'] is 10\n"
     ]
    }
   ],
   "source": [
    "# Write a Python program to calculate the sum of the digits in an integer\n",
    "n = int(input('Enter a number: '))\n",
    "a = []\n",
    "total=0\n",
    "for i in str(n):\n",
    "    a.append(i)\n",
    "for b in range(0, len(a)):\n",
    "     total = total + int(a[b])\n",
    "print(\"Sum of {} is {}\".format(a,total))"
   ]
  },
  {
   "cell_type": "code",
   "execution_count": 4,
   "metadata": {},
   "outputs": [
    {
     "name": "stdout",
     "output_type": "stream",
     "text": [
      "Enter a decimal number: 10\n",
      "1010\n"
     ]
    }
   ],
   "source": [
    "# Write a Python program to convert an decimal integer to binary\n",
    "decimal = int(input('Enter a decimal number: '))\n",
    "n=1\n",
    "a = []\n",
    "while n != 0:\n",
    "    n = decimal // 2\n",
    "    a.append(decimal%2)\n",
    "    decimal = n\n",
    "print(*a[::-1],sep='')"
   ]
  },
  {
   "cell_type": "code",
   "execution_count": 9,
   "metadata": {},
   "outputs": [
    {
     "name": "stdout",
     "output_type": "stream",
     "text": [
      "Enter a Binary number: 1010\n",
      "Decimal Representation of 1010 is 10\n"
     ]
    }
   ],
   "source": [
    "# Write a program to convert binary number to Decimal number\n",
    "binary = input('Enter a Binary number: ')\n",
    "print('Decimal Representation of {} is {}'.format(binary,int(binary, 2)))"
   ]
  },
  {
   "cell_type": "code",
   "execution_count": 12,
   "metadata": {},
   "outputs": [
    {
     "name": "stdout",
     "output_type": "stream",
     "text": [
      "Enter text: QuickBrownFoxJumpsovertheDog\n",
      "Total number of vowel and consonant are\n",
      "9\n",
      "19\n"
     ]
    }
   ],
   "source": [
    "# Input a text and count the occurrences of vowels and consonant\n",
    "vcount = 0;  \n",
    "ccount = 0;  \n",
    "str= input(\"Enter text: \")  \n",
    "str = str.lower();  \n",
    "for i in range(0,len(str)):   \n",
    "    if str[i] in ('a',\"e\",\"i\",\"o\",\"u\"):  \n",
    "        vcount = vcount + 1;  \n",
    "    elif (str[i] >= 'a' and str[i] <= 'z'):  \n",
    "        ccount = ccount + 1;  \n",
    "print(\"Total number of vowel and consonant are\" );  \n",
    "print(vcount);  \n",
    "print(ccount);  "
   ]
  },
  {
   "cell_type": "code",
   "execution_count": 15,
   "metadata": {},
   "outputs": [
    {
     "name": "stdout",
     "output_type": "stream",
     "text": [
      "Enter text: dad\n",
      "Text dad is Palindrome\n"
     ]
    }
   ],
   "source": [
    "# Write a program to check whether given input is palindrome or not\n",
    "word = input('Enter text: ')\n",
    "a = []\n",
    "for e in word:\n",
    "    a.append(e)\n",
    "if a[::-1] == list(word):\n",
    "    print(\"Text {} is Palindrome\".format(word))\n",
    "else:\n",
    "    print(\"Text {} is not Palindrome\".format(word))"
   ]
  },
  {
   "cell_type": "code",
   "execution_count": 39,
   "metadata": {},
   "outputs": [
    {
     "name": "stdout",
     "output_type": "stream",
     "text": [
      "Enter the text: pyhton 3.2\n",
      "Numbers = 2\n",
      "Alphabets = 6\n",
      "Special Characters = 1\n",
      "Spaces = 1\n"
     ]
    }
   ],
   "source": [
    "# Write a Python program that accepts a string and calculate the number of digits and letters\n",
    "text = input('Enter the text: ')\n",
    "letters = 0\n",
    "numbers = 0\n",
    "spc = 0\n",
    "space = 0\n",
    "for i in text:\n",
    "    if (ord(i)>=65 and ord(i)<=90) or (ord(i)>=97 and ord(i)<=122):\n",
    "        letters += 1\n",
    "    elif ord(i) == 32:\n",
    "        space += 1\n",
    "    elif ord(i)>=48 and ord(i)<=57:\n",
    "        numbers += 1\n",
    "    else:\n",
    "        spc+=1\n",
    "print('Numbers = {}\\nAlphabets = {}\\nSpecial Characters = {}\\nSpaces = {}'.format(numbers,letters, spc, space))"
   ]
  },
  {
   "cell_type": "code",
   "execution_count": 52,
   "metadata": {},
   "outputs": [
    {
     "name": "stdout",
     "output_type": "stream",
     "text": [
      "* \r\n",
      "* * \r\n",
      "* * * \r\n",
      "* * * * \r\n",
      "* * * * * \r\n",
      "* * * * \r\n",
      "* * * \r\n",
      "* * \r\n",
      "* \r\n",
      "\r\n"
     ]
    }
   ],
   "source": [
    "# Write a Python program to construct the following pattern\n",
    "for i in range (0, 5):\n",
    "    for j in range(0, i + 1):\n",
    "        print(\"*\", end=' ')\n",
    "    print(\"\\r\")\n",
    "for i in range (5, 0, -1):\n",
    "    for j in range(0, i -1):\n",
    "        print(\"*\", end=' ')\n",
    "    print(\"\\r\")"
   ]
  },
  {
   "cell_type": "code",
   "execution_count": 55,
   "metadata": {},
   "outputs": [
    {
     "name": "stdout",
     "output_type": "stream",
     "text": [
      "\r\n",
      "1 \r\n",
      "1 2 \r\n",
      "1 2 3 \r\n",
      "1 2 3 4 \r\n",
      "1 2 3 4 5 \r\n",
      "1 2 3 4 \r\n",
      "1 2 3 \r\n",
      "1 2 \r\n",
      "1 \r\n",
      "\r\n",
      "\r\n"
     ]
    }
   ],
   "source": [
    "# Write a Python program to construct the following pattern\n",
    "for i in range (0, 6):\n",
    "    for j in range(1, i + 1):\n",
    "        print(\"{}\".format(j), end=' ')\n",
    "    print(\"\\r\")\n",
    "for i in range (6, 0, -1):\n",
    "    for j in range(1, i -1):\n",
    "        print(\"{}\".format(j), end=' ')\n",
    "    print(\"\\r\")"
   ]
  },
  {
   "cell_type": "code",
   "execution_count": 72,
   "metadata": {},
   "outputs": [
    {
     "name": "stdout",
     "output_type": "stream",
     "text": [
      "\r\n",
      "1\r\n",
      "22\r\n",
      "333\r\n",
      "4444\r\n",
      "55555\r\n",
      "666666\r\n",
      "7777777\r\n",
      "88888888\r\n",
      "999999999\r\n"
     ]
    }
   ],
   "source": [
    "# Write a Python program to construct the following pattern\n",
    "for i in range(10):\n",
    "    for j in range(i+1-1):\n",
    "        print(i, end = '')\n",
    "    print('\\r')"
   ]
  }
 ],
 "metadata": {
  "kernelspec": {
   "display_name": "Python 3",
   "language": "python",
   "name": "python3"
  },
  "language_info": {
   "codemirror_mode": {
    "name": "ipython",
    "version": 3
   },
   "file_extension": ".py",
   "mimetype": "text/x-python",
   "name": "python",
   "nbconvert_exporter": "python",
   "pygments_lexer": "ipython3",
   "version": "3.7.3"
  }
 },
 "nbformat": 4,
 "nbformat_minor": 2
}
